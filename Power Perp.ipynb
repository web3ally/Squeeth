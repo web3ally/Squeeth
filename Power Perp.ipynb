{
 "cells": [
  {
   "cell_type": "code",
   "execution_count": 8,
   "metadata": {},
   "outputs": [],
   "source": [
    "import numpy as np\n",
    "\n",
    "\n",
    "def power_perp_price(spot, time, vol, drift, power):\n",
    "    price = spot ** power * np.exp((power - 1) * (drift + power / 2 * vol ** 2) * time)\n",
    "    return price\n",
    "\n",
    "\n",
    "def everlasting_power_perp_price(spot, funding_period, vol, drift, power):\n",
    "    price = spot ** power * (1 / (2* np.exp(-funding_period/2 * (power - 1) * (2 * drift + power * vol **2)) - 1))\n",
    "    return price"
   ]
  },
  {
   "cell_type": "code",
   "execution_count": 9,
   "metadata": {},
   "outputs": [
    {
     "data": {
      "text/plain": [
       "11331.484530668264"
      ]
     },
     "execution_count": 9,
     "metadata": {},
     "output_type": "execute_result"
    }
   ],
   "source": [
    "power_perp_price(spot=100, time=10, vol=0.05, drift=0.01, power=2)"
   ]
  },
  {
   "cell_type": "code",
   "execution_count": 10,
   "metadata": {},
   "outputs": [
    {
     "data": {
      "text/plain": [
       "13072.001279524526"
      ]
     },
     "execution_count": 10,
     "metadata": {},
     "output_type": "execute_result"
    }
   ],
   "source": [
    "everlasting_power_perp_price(spot=100, funding_period=10, vol=0.05, drift=0.01, power=2)"
   ]
  },
  {
   "cell_type": "code",
   "execution_count": null,
   "metadata": {},
   "outputs": [],
   "source": []
  }
 ],
 "metadata": {
  "kernelspec": {
   "display_name": "Python 3 (ipykernel)",
   "language": "python",
   "name": "python3"
  },
  "language_info": {
   "codemirror_mode": {
    "name": "ipython",
    "version": 3
   },
   "file_extension": ".py",
   "mimetype": "text/x-python",
   "name": "python",
   "nbconvert_exporter": "python",
   "pygments_lexer": "ipython3",
   "version": "3.7.4"
  }
 },
 "nbformat": 4,
 "nbformat_minor": 4
}
