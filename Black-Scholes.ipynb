{
 "cells": [
  {
   "cell_type": "code",
   "execution_count": 1,
   "metadata": {},
   "outputs": [],
   "source": [
    "import numpy as np\n",
    "\n",
    "\n",
    "def cnd(d):\n",
    "    \"\"\" CDF of the normal distribution \"\"\"\n",
    "    A1 = 0.31938153\n",
    "    A2 = -0.356563782\n",
    "    A3 = 1.781477937\n",
    "    A4 = -1.821255978\n",
    "    A5 = 1.330274429\n",
    "    RSQRT2PI = 0.39894228040143267793994605993438\n",
    "    K = 1.0 / (1.0 + 0.2316419 * np.abs(d))\n",
    "    ret_val = (RSQRT2PI * np.exp(-0.5 * d * d) *\n",
    "               (K * (A1 + K * (A2 + K * (A3 + K * (A4 + K * A5))))))\n",
    "    return np.where(d > 0, 1.0 - ret_val, ret_val)\n",
    "\n",
    "\n",
    "def black_scholes(stockPrice, optionStrike, optionYears, riskFreeRate, volatility, callOrPut):\n",
    "    \n",
    "    # spot price of an asset\n",
    "    S = stockPrice\n",
    "    \n",
    "    # strike price\n",
    "    K = optionStrike\n",
    "    \n",
    "    # time to maturity in years\n",
    "    T = optionYears\n",
    "    \n",
    "    # risk-free interest rate\n",
    "    R = riskFreeRate\n",
    "    \n",
    "    # volatility of the asset\n",
    "    V = volatility\n",
    "    \n",
    "    # To simplify the calculation, d1 and d2 are typically calculated seperatesly and the the cumulative distribution functions of d1 and d2 are taken\n",
    "    d1 = (np.log(S / K) + (R + 0.5 * V * V) * T) / (V * np.sqrt(T))\n",
    "    d2 = d1 - V * np.sqrt(T)\n",
    "    \n",
    "    # Finally, the result for the call is calculated\n",
    "    if callOrPut == 'call':\n",
    "        optionPrice = S * cnd(d1) - K * np.exp(-R*T) * cnd(d2)\n",
    "    elif callOrPut == 'put':\n",
    "        optionPrice = -S * cnd(-d1) + K * np.exp(-R*T) * cnd(-d2)\n",
    "\n",
    "    return optionPrice"
   ]
  },
  {
   "cell_type": "code",
   "execution_count": 2,
   "metadata": {},
   "outputs": [
    {
     "data": {
      "text/plain": [
       "8.963458820078245"
      ]
     },
     "execution_count": 2,
     "metadata": {},
     "output_type": "execute_result"
    }
   ],
   "source": [
    "stockPrice = 100\n",
    "optionStrike = 95\n",
    "optionYears = 0.1\n",
    "riskFreeRate = 0\n",
    "volatility = 0.5\n",
    "callOrPut = 'call'\n",
    "black_scholes(stockPrice, optionStrike, optionYears, riskFreeRate, volatility, callOrPut)"
   ]
  },
  {
   "cell_type": "code",
   "execution_count": null,
   "metadata": {},
   "outputs": [],
   "source": []
  }
 ],
 "metadata": {
  "kernelspec": {
   "display_name": "Python 3 (ipykernel)",
   "language": "python",
   "name": "python3"
  },
  "language_info": {
   "codemirror_mode": {
    "name": "ipython",
    "version": 3
   },
   "file_extension": ".py",
   "mimetype": "text/x-python",
   "name": "python",
   "nbconvert_exporter": "python",
   "pygments_lexer": "ipython3",
   "version": "3.7.4"
  }
 },
 "nbformat": 4,
 "nbformat_minor": 4
}
