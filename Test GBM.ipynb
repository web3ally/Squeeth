{
 "cells": [
  {
   "cell_type": "code",
   "execution_count": 2,
   "metadata": {},
   "outputs": [],
   "source": [
    "import numpy as np"
   ]
  },
  {
   "cell_type": "code",
   "execution_count": 3,
   "metadata": {},
   "outputs": [],
   "source": [
    "def get_sample(spot, time, vol, drift):\n",
    "    \"\"\"\n",
    "    Computes new price randomly based on a starting price, a drift, a volatility, and a duration\n",
    "    See: https://en.wikipedia.org/wiki/Geometric_Brownian_motion for a derivation\n",
    "    \"\"\"\n",
    "    \n",
    "    # Compute a random standard normal \n",
    "    rand = np.random.normal(loc=0.0, scale=1.0)\n",
    "\n",
    "    # Calculate new price based on a geometric brownian motion model\n",
    "    newPrice = spot * np.exp(((drift - (0.5 * (vol ** 2))) * time) + (vol * np.sqrt(time) * rand))\n",
    "    \n",
    "    return newPrice\n",
    "\n",
    "\n",
    "def get_samples(num_samples, spot, time, vol, drift):\n",
    "    \"\"\"\n",
    "    Get a set of samples from this GBM where spot is the starting price, time is the number of periods,\n",
    "    vol is the percentage volatility, drift is the percentage drift, and num_samples is the number of samples. \n",
    "    \"\"\"\n",
    "    samples = np.array([get_sample(spot, time, vol, drift) for _ in range(num_samples)])\n",
    "    \n",
    "    return samples"
   ]
  },
  {
   "cell_type": "code",
   "execution_count": 4,
   "metadata": {},
   "outputs": [],
   "source": [
    "def test_gbm():\n",
    "    num_samples = 10000\n",
    "    spot = 2\n",
    "    time = 0.5\n",
    "    vol = 0.8\n",
    "    drift = 0.1\n",
    "    samples = get_samples(num_samples,spot,time,vol,drift)\n",
    "\n",
    "    avg = np.mean(samples)\n",
    "    var = np.var(samples)\n",
    "\n",
    "    expected_avg = spot*np.exp(drift*time)\n",
    "    expected_var = (spot**2)*np.exp(2*drift*time)*(np.exp(vol**2*time) - 1)\n",
    "\n",
    "    assert np.abs(avg - expected_avg)/expected_avg < 0.05, (avg, expected_avg)\n",
    "    assert np.abs(var - expected_var)/expected_var < 0.05, (var, expected_var)"
   ]
  },
  {
   "cell_type": "code",
   "execution_count": 5,
   "metadata": {},
   "outputs": [],
   "source": [
    "test_gbm()"
   ]
  },
  {
   "cell_type": "code",
   "execution_count": null,
   "metadata": {},
   "outputs": [],
   "source": []
  }
 ],
 "metadata": {
  "kernelspec": {
   "display_name": "Python 3 (ipykernel)",
   "language": "python",
   "name": "python3"
  },
  "language_info": {
   "codemirror_mode": {
    "name": "ipython",
    "version": 3
   },
   "file_extension": ".py",
   "mimetype": "text/x-python",
   "name": "python",
   "nbconvert_exporter": "python",
   "pygments_lexer": "ipython3",
   "version": "3.7.4"
  }
 },
 "nbformat": 4,
 "nbformat_minor": 4
}
